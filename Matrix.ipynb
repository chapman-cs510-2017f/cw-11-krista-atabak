{
 "cells": [
  {
   "cell_type": "markdown",
   "metadata": {
    "collapsed": false
   },
   "source": [
    "\n",
    "### Matrix\n",
    "Matrix type is defined as a struct with three objects:\n",
    "* the number of rows.\n",
    "* the number of columns.\n",
    "* an array of long doubles.\n",
    "This array contains the values of the matrix. When we create a matrix, we determine how much space is needed and allocate enough memory for the matrix. We flatten to the 2-D matrix into a vector using. There are 2 ways to flatten a matrix:\n",
    "* group the rows, therefore, rows are stored contiguously in memory, and columns spread out in memory this is called **Row-major order**\n",
    "* group the columns, therefore, columns are stored contiguously in memory, and rows spread out in memory this is called **column-major ordering**\n",
    "\n",
    "$$A = \\begin{bmatrix}\n",
    "a_{11} & a_{12} & a_{13} \\\\\n",
    "a_{21} & a_{22} & a_{23} \\end{bmatrix}$$\n",
    "\n",
    "| Address | Access   | Value |\n",
    "|---------|----------|-------|\n",
    "|   0     | A[0][0]  |$$a_{11}$$|\n",
    "|----------|-\n",
    "\n",
    "The default convention in both C and Python is row-major ordering. To force C to use the non-default array ordering, we had change the formula of elements location to :\n",
    " $$\\text{elment location} = (\\text{number of rows in the matrix})*(\\text{element column}) + (\\text{element row})$$\n",
    "\n"
   ]
  },
  {
   "cell_type": "code",
   "execution_count": 0,
   "metadata": {
    "collapsed": false
   },
   "outputs": [
   ],
   "source": [
   ]
  }
 ],
 "metadata": {
  "kernelspec": {
   "display_name": "Bash (Linux)",
   "language": "bash",
   "name": "bash"
  },
  "language_info": {
   "codemirror_mode": "shell",
   "file_extension": ".sh",
   "mimetype": "text/x-sh",
   "name": "bash"
  }
 },
 "nbformat": 4,
 "nbformat_minor": 0
}